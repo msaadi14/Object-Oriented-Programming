{
 "cells": [
  {
   "cell_type": "markdown",
   "id": "2b89971c-9548-45cc-a01f-394234c78ff8",
   "metadata": {},
   "source": [
    "# Object Oriented Programming"
   ]
  },
  {
   "cell_type": "code",
   "execution_count": null,
   "id": "c8bddd73-0855-4d41-940c-1fcdc6ed3f4f",
   "metadata": {},
   "outputs": [],
   "source": [
    "# Class- Always capitalize the name of the class which means class name always starts with capital alphabet.\n",
    "    # Constructor:\n",
    "        # Always call when we create new object\n",
    "        # def__init__(self,arg1,arg2) # we have given it three arguments (self,arg1,arg2)\n",
    "        # first argument (which is self) must be ignore when we will call it.\n",
    "        # self,this,any_name you can name anything in first argument.\n",
    "        # first argument always connect methods and attributes with individual object.\n",
    "# Object/Instance\n",
    "# Methods(Function)\n",
    "# Attributes/properties/characteristics/fields:\n",
    "    # Always under __init__ method\n",
    "    # self.attribute name =\n",
    "# class variable"
   ]
  },
  {
   "cell_type": "code",
   "execution_count": 2,
   "id": "8251df44-0f68-43a9-b127-c10ffe03b277",
   "metadata": {},
   "outputs": [],
   "source": [
    "# 4 pillars of OOP:\n",
    "# Inheritance\n",
    "# Polymorphism\n",
    "# Encapsulation\n",
    "# Abstraction"
   ]
  },
  {
   "cell_type": "code",
   "execution_count": 57,
   "id": "f544edcb-b0c1-474b-b15c-b79537aedac8",
   "metadata": {},
   "outputs": [],
   "source": [
    "# The benefit of OOP is that it provides a templete you don't have to write codes again and again for the same function.\n",
    "# In OOP you make a templete where you just have to fit the objects and you are free from writing multiple line codes again and again for same functions.\n",
    "# In OOP if you make a mistake in the templete you can just correct it and re run it but if you are writing many lines of codes for different objects again and again and you realize that you have made a mistake and should have added or not added something then you will have to correct the code for every object."
   ]
  },
  {
   "cell_type": "code",
   "execution_count": 63,
   "id": "ee305991-cd7f-431e-8597-a3c3465dd4e6",
   "metadata": {},
   "outputs": [],
   "source": [
    "saadi_name=\"saadi\"\n",
    "saadi_fname=\"anis\"\n",
    "saadi_education=\"MOM\"\n",
    "\n",
    "def saadi_name_speaking():pass\n",
    "def saadi_name_listening():pass\n",
    "def saadi_name_eating():pass\n",
    "\n",
    "hadi_name=\"hadi\"\n",
    "hadi_fname=\"anis\"\n",
    "hadi_education=\"bs\"\n",
    "\n",
    "def hadi_name_speaking():pass\n",
    "def hadi_name_listening():pass\n",
    "def hadi_name_eating():pass\n",
    "\n",
    "# see here you have to write multiple lines of code for two objects saadi and hadi.\n",
    "\n"
   ]
  },
  {
   "cell_type": "code",
   "execution_count": 49,
   "id": "c8f3ff43-6731-49ff-bd4e-0a11768f200c",
   "metadata": {},
   "outputs": [],
   "source": [
    "class Students(): # Class\n",
    "    def __init__(self,student_id,student_name): # constructor\n",
    "        self.id=student_id #attribute\n",
    "        self.name=student_name #attribute\n",
    "        self.fname=None #attribute\n",
    "        self.education=None #attribute        \n",
    "    \n",
    "    def speaking(self,message=None): #method\n",
    "        return message\n",
    "\n",
    "    def listening(self):#method\n",
    "        return self.name + \"...\"\n",
    "\n",
    "    def eating(self,food): # method\n",
    "        return self.name + \" is eating \" + food\n",
    "\n",
    "# Here you have made a class which is a templete and has various attributes and methods which you can call again and again for different objects.\n",
    "# The constructor (self/this/etc.) is used to connect methods and attributes together."
   ]
  },
  {
   "cell_type": "code",
   "execution_count": 53,
   "id": "a6bc9d60-bf3f-4c49-8253-358956ee0abb",
   "metadata": {},
   "outputs": [],
   "source": [
    "s1=Students(1,\"Muhammad Saadi\") # These s1,s2,s3 are three different objects and constructor's role is to connect the objects with the methods and attributes.\n",
    "s2=Students(2,\"Ali Ahmed\")\n",
    "s3=Students(3,\"Kashif Asif\")"
   ]
  },
  {
   "cell_type": "code",
   "execution_count": 21,
   "id": "71b96115-5c88-44d0-8285-54f271c926ee",
   "metadata": {},
   "outputs": [
    {
     "data": {
      "text/plain": [
       "['__class__',\n",
       " '__delattr__',\n",
       " '__dict__',\n",
       " '__dir__',\n",
       " '__doc__',\n",
       " '__eq__',\n",
       " '__format__',\n",
       " '__ge__',\n",
       " '__getattribute__',\n",
       " '__getstate__',\n",
       " '__gt__',\n",
       " '__hash__',\n",
       " '__init__',\n",
       " '__init_subclass__',\n",
       " '__le__',\n",
       " '__lt__',\n",
       " '__module__',\n",
       " '__ne__',\n",
       " '__new__',\n",
       " '__reduce__',\n",
       " '__reduce_ex__',\n",
       " '__repr__',\n",
       " '__setattr__',\n",
       " '__sizeof__',\n",
       " '__str__',\n",
       " '__subclasshook__',\n",
       " '__weakref__',\n",
       " 'eating',\n",
       " 'education',\n",
       " 'fname',\n",
       " 'id',\n",
       " 'listening',\n",
       " 'name',\n",
       " 'speaking']"
      ]
     },
     "execution_count": 21,
     "metadata": {},
     "output_type": "execute_result"
    }
   ],
   "source": [
    "dir(s1) # see all the methods attributes at bottom in the directory of the object."
   ]
  },
  {
   "cell_type": "code",
   "execution_count": 29,
   "id": "0f005011-208a-4186-8cd4-8d4537eee4a5",
   "metadata": {},
   "outputs": [
    {
     "name": "stdout",
     "output_type": "stream",
     "text": [
      "Muhammad Saadi\n",
      "Ali Ahmed\n",
      "Kashif Asif\n"
     ]
    }
   ],
   "source": [
    "print(s1.name)\n",
    "print(s2.name)\n",
    "print(s3.name) # See that since these objects are part of class where you have to provide ID and Name only you can call only the names of the object by doing s1.name."
   ]
  },
  {
   "cell_type": "code",
   "execution_count": 55,
   "id": "59b10cb8-b678-43b8-b4da-996352771df0",
   "metadata": {},
   "outputs": [
    {
     "data": {
      "text/plain": [
       "'Muhammad Saadi is eating biryani'"
      ]
     },
     "execution_count": 55,
     "metadata": {},
     "output_type": "execute_result"
    }
   ],
   "source": [
    "s1.eating(\"biryani\") "
   ]
  },
  {
   "cell_type": "code",
   "execution_count": null,
   "id": "a324a58b-8d22-4482-a7bd-6076c82eecb2",
   "metadata": {},
   "outputs": [],
   "source": [
    "# Now understand that for facebook if they have made a class of users where they have added the features that a user can perform on facebook such as like, comment, share, tag.\n",
    "# Now facebook wants to add another feature for their user \"live stream\" so they can just add that feature in the user class and it will be available to all the users which are objects of that class."
   ]
  },
  {
   "cell_type": "code",
   "execution_count": 65,
   "id": "c9a5a710-0235-4317-80f9-3f09e1e89ab7",
   "metadata": {},
   "outputs": [
    {
     "name": "stdout",
     "output_type": "stream",
     "text": [
      "Muhammad Ahmed\n",
      "4\n",
      "yasir\n",
      "BS ACF\n"
     ]
    }
   ],
   "source": [
    "s1.name=\"Muhammad Ahmed\"\n",
    "s1.id=4\n",
    "s1.fname=\"yasir\"\n",
    "s1.education=\"BS ACF\"\n",
    "\n",
    "print(s1.name)\n",
    "print(s1.id)\n",
    "print(s1.fname)\n",
    "print(s1.education)\n",
    "\n",
    "# we can change the object after making it as well."
   ]
  },
  {
   "cell_type": "code",
   "execution_count": 69,
   "id": "19ad6b12-5630-4709-9278-f5a24d3a3c15",
   "metadata": {},
   "outputs": [
    {
     "data": {
      "text/plain": [
       "'Muhammad Ahmed is eating pizza'"
      ]
     },
     "execution_count": 69,
     "metadata": {},
     "output_type": "execute_result"
    }
   ],
   "source": [
    "s1.eating(\"pizza\")"
   ]
  },
  {
   "cell_type": "code",
   "execution_count": 71,
   "id": "7f690558-9c2a-4708-a0b1-5d8908d75666",
   "metadata": {},
   "outputs": [
    {
     "data": {
      "text/plain": [
       "'my name is ahmed'"
      ]
     },
     "execution_count": 71,
     "metadata": {},
     "output_type": "execute_result"
    }
   ],
   "source": [
    "s1.speaking(\"my name is ahmed\")"
   ]
  },
  {
   "cell_type": "code",
   "execution_count": 75,
   "id": "20dc706b-62d4-4539-9b81-70b79f1bee2a",
   "metadata": {},
   "outputs": [
    {
     "data": {
      "text/plain": [
       "'Muhammad Ahmed...'"
      ]
     },
     "execution_count": 75,
     "metadata": {},
     "output_type": "execute_result"
    }
   ],
   "source": [
    "s1.listening()"
   ]
  },
  {
   "cell_type": "markdown",
   "id": "a871603f-4203-4a3b-80fb-d652ef783b09",
   "metadata": {},
   "source": [
    "## inheritance"
   ]
  },
  {
   "cell_type": "code",
   "execution_count": 1,
   "id": "1b956726-5066-458d-b4eb-25d990f4dbe7",
   "metadata": {},
   "outputs": [],
   "source": [
    " class Father():\n",
    "     def __init__(self):\n",
    "         self.eyecolor=\"blue\"\n",
    "         self.haircolor=\"brown\"\n",
    "         self.height=\"tall\"\n",
    "\n",
    "     def speaking(self,text,language=\"urdu\"):\n",
    "        return text+\" is speaking= \"+language\n",
    "\n",
    "# This is a father class from which child class will inherit."
   ]
  },
  {
   "cell_type": "code",
   "execution_count": 3,
   "id": "1c51f10d-bd45-4655-b958-9056576564e0",
   "metadata": {},
   "outputs": [],
   "source": [
    "class Child(Father):\n",
    "    pass\n",
    "\n",
    "# I have made a child class to which I have given no attributes just its single inheritance from father class.\n",
    "# The inheritance class will always come in the bracket of child class.\n",
    "# In case of multi level inheritance where you have father, mother, and more classes for inheritance the class that comes first in bracket will be the one that will have its attributes inherited the most."
   ]
  },
  {
   "cell_type": "code",
   "execution_count": 5,
   "id": "12f86f65-fd16-4748-b964-71494c1b7d8a",
   "metadata": {},
   "outputs": [
    {
     "name": "stdout",
     "output_type": "stream",
     "text": [
      "blue\n",
      "brown\n",
      "tall\n"
     ]
    }
   ],
   "source": [
    "f=Father()\n",
    "print(f.eyecolor)\n",
    "print(f.haircolor)\n",
    "print(f.height)"
   ]
  },
  {
   "cell_type": "code",
   "execution_count": 7,
   "id": "e2d296eb-3e75-4d79-8977-be6cd58e1fd8",
   "metadata": {},
   "outputs": [
    {
     "name": "stdout",
     "output_type": "stream",
     "text": [
      "blue\n",
      "brown\n",
      "tall\n"
     ]
    }
   ],
   "source": [
    "c=Child()\n",
    "print(c.eyecolor)\n",
    "print(c.haircolor)\n",
    "print(c.height)\n",
    "# The child class inherited the attributes from the father class."
   ]
  },
  {
   "cell_type": "code",
   "execution_count": 9,
   "id": "e01527d0-e9c8-4149-b38f-f624ddefffe7",
   "metadata": {},
   "outputs": [
    {
     "data": {
      "text/plain": [
       "'I am speaking is speaking= urdu'"
      ]
     },
     "execution_count": 9,
     "metadata": {},
     "output_type": "execute_result"
    }
   ],
   "source": [
    "c.speaking(\"I am speaking\") # I have given the text."
   ]
  },
  {
   "cell_type": "code",
   "execution_count": 95,
   "id": "7951cef5-d11f-46f8-b5fe-27707797a0a6",
   "metadata": {},
   "outputs": [],
   "source": [
    " class Mother():\n",
    "     def __init__(self):\n",
    "         self.eyecolor=\"black\"\n",
    "         self.haircolor=\"black\"\n",
    "         self.height=\"small\"\n",
    "         self.weight=\"50K\"\n",
    "         self.skin=\"white\"\n",
    "\n",
    "     def speaking(self,text,language=\"english\"):\n",
    "        return text+\" is speaking= \"+language\n",
    "\n",
    "class Child(Mother,Father):\n",
    "    pass"
   ]
  },
  {
   "cell_type": "code",
   "execution_count": 101,
   "id": "223db457-33c9-4fd1-ac1d-2864b9d7faf8",
   "metadata": {},
   "outputs": [
    {
     "name": "stdout",
     "output_type": "stream",
     "text": [
      "black\n",
      "black\n",
      "small\n",
      "50K\n",
      "white\n",
      "Boy is speaking= english\n"
     ]
    }
   ],
   "source": [
    "c1=Child()\n",
    "print(c1.eyecolor)\n",
    "print(c1.haircolor)\n",
    "print(c1.height)\n",
    "print(c1.weight)\n",
    "print(c1.skin)\n",
    "\n",
    "print(c1.speaking(\"Boy\"))\n",
    "\n",
    "# Now you can see since the mother class is first in the bracket of child class its attributes has overwritten the attributes of father and child has adopted all attirbutes which mother has."
   ]
  },
  {
   "cell_type": "code",
   "execution_count": 11,
   "id": "ff054729-acbc-45f1-bd31-27cbccf89dce",
   "metadata": {},
   "outputs": [
    {
     "name": "stdout",
     "output_type": "stream",
     "text": [
      "muhammad saadi\n",
      "my name is is speaking= english\n",
      "50K\n",
      "fast\n",
      "black\n"
     ]
    }
   ],
   "source": [
    " class Father():\n",
    "     def __init__(self):\n",
    "         super().__init__()\n",
    "         self.eyecolor=\"blue\"\n",
    "         self.haircolor=\"brown\"\n",
    "         self.height=\"tall\"\n",
    "         self.speed=\"fast\"\n",
    "\n",
    "     def speaking(self,text,language=\"urdu\"):\n",
    "        return text+\" is speaking= \"+language\n",
    "\n",
    "class Mother():\n",
    "     def __init__(self):\n",
    "         super().__init__()\n",
    "         self.eyecolor=\"black\"\n",
    "         self.haircolor=\"black\"\n",
    "         self.height=\"small\"\n",
    "         self.weight=\"50K\"\n",
    "         self.skin=\"white\"\n",
    "\n",
    "     def speaking(self,text,language=\"english\"):\n",
    "        return text+\" is speaking= \"+language\n",
    "\n",
    "class Child(Mother,Father):\n",
    "    def __init__(self,id,name):\n",
    "        super().__init__() # This is used to call parents class's methods or contructor for inheritance.\n",
    "        self.id=id\n",
    "        self.name=name\n",
    " # If you want multi level inheritance where you want atttributes and methods of both parents then you will have to add super.()__init() constructor in parents class as well.       \n",
    "c1=Child(1,\"muhammad saadi\")\n",
    "print(c1.name)\n",
    "print(c1.speaking(\"my name is\"))\n",
    "print(c1.weight)\n",
    "print(c1.speed)\n",
    "print(c1.eyecolor)\n",
    "\n",
    "# We see that child class now inherits from mother and so mother class overrides everything of father class. If there is an attribute in father class like hair color which is not present in mother class then it will not work unless you add super.__init__() constructor in parents class as well."
   ]
  },
  {
   "cell_type": "code",
   "execution_count": 148,
   "id": "f9e8fd95-81e8-4a68-8272-7a18adbcf91b",
   "metadata": {},
   "outputs": [
    {
     "name": "stdout",
     "output_type": "stream",
     "text": [
      "muhammad saadi\n",
      "my name is is speaking= english\n",
      "50K\n",
      "fast\n"
     ]
    }
   ],
   "source": [
    " class Grand_Parents():\n",
    "     def __init__(self):\n",
    "         self.eyecolor=\"blue\"\n",
    "         self.haircolor=\"brown\"\n",
    "         self.height=\"tall\"\n",
    "         self.speed=\"fast\"\n",
    "\n",
    "     def speaking(self,text,language=\"urdu\"):\n",
    "        return text+\" is speaking= \"+language\n",
    "\n",
    "class Parents(Grand_Parents): # Here you can see speed is inherited by parents and follows simple inheritance a without super constructor in grand parents class. \n",
    "     def __init__(self): # This is used for multi level inheritance.\n",
    "         super().__init__()\n",
    "         self.eyecolor=\"black\"\n",
    "         self.haircolor=\"black\"\n",
    "         self.height=\"small\"\n",
    "         self.weight=\"50K\"\n",
    "         self.skin=\"white\"\n",
    "\n",
    "     def speaking(self,text,language=\"english\"):\n",
    "        return text+\" is speaking= \"+language\n",
    "\n",
    "class Child(Parents):\n",
    "    def __init__(self,id,name):\n",
    "        super().__init__() # This is used to call parents class's methods or contructor for inheritance.\n",
    "        self.id=id\n",
    "        self.name=name\n",
    " # If you want multi level inheritance where you want atttributes and methods of both parents then you will have to add super.()__init() constructor in parents class as well.       \n",
    "c1=Child(1,\"muhammad saadi\")\n",
    "print(c1.name)\n",
    "print(c1.speaking(\"my name is\"))\n",
    "print(c1.weight)\n",
    "print(c1.speed)"
   ]
  },
  {
   "cell_type": "code",
   "execution_count": 162,
   "id": "f0bdf73c-64c2-49cd-9719-b63102fe48bf",
   "metadata": {},
   "outputs": [
    {
     "name": "stdout",
     "output_type": "stream",
     "text": [
      "singla electronics\n",
      "Black\n",
      "Dell\n",
      "Samsung S10\n"
     ]
    }
   ],
   "source": [
    "class Electronics():\n",
    "    def __init__(self):\n",
    "        print(\"singla electronics\")\n",
    "        self.laptop=self.Laptop()\n",
    "        self.mobile=self.Mobile()\n",
    "\n",
    "    class Laptop(): # Inner class 1 of Electronics class\n",
    "        def operations(self):\n",
    "            print(\"Black\")\n",
    "            print(\"Dell\")\n",
    "\n",
    "    class Mobile(): # Inner class two of Electronic class\n",
    "        def operations(self):\n",
    "            print(\"Samsung S10\")\n",
    "\n",
    "a=Electronics()\n",
    "a.laptop.operations() # you can see electronics class is taking methods of its inner classes.\n",
    "a.mobile.operations()"
   ]
  },
  {
   "cell_type": "markdown",
   "id": "31a41241-98ff-45ea-b687-c5785df7cd29",
   "metadata": {},
   "source": [
    "## Polymorphism"
   ]
  },
  {
   "cell_type": "code",
   "execution_count": null,
   "id": "6305cc75-e3ef-465c-85c4-ee304e211f11",
   "metadata": {},
   "outputs": [],
   "source": [
    "# if functions in same class with same methods or operators perform different behaviours with different data types of argument is called overloading."
   ]
  },
  {
   "cell_type": "code",
   "execution_count": 114,
   "id": "090e9605-d0f4-4267-8ab5-af3afa0507c1",
   "metadata": {},
   "outputs": [
    {
     "ename": "SyntaxError",
     "evalue": "invalid syntax (1233824052.py, line 4)",
     "output_type": "error",
     "traceback": [
      "\u001b[1;36m  Cell \u001b[1;32mIn[114], line 4\u001b[1;36m\u001b[0m\n\u001b[1;33m    def add_two_numbers (float num1, float num2):\u001b[0m\n\u001b[1;37m                               ^\u001b[0m\n\u001b[1;31mSyntaxError\u001b[0m\u001b[1;31m:\u001b[0m invalid syntax\n"
     ]
    }
   ],
   "source": [
    "#overload (old language concept)\n",
    "# Within a class same functions are created multiple times with multiple arguments (data types).\n",
    "\n",
    "def add_two_numbers (float num1, float num2):\n",
    "def add_two_numbers (int num1, int num2):\n",
    "def add_two_numbers (float num1, float num2):\n",
    "def add_two_numbers (int num1, int num2):\n",
    "\n"
   ]
  },
  {
   "cell_type": "code",
   "execution_count": 120,
   "id": "39b4cf27-90ef-4499-98a6-bbed914b486a",
   "metadata": {},
   "outputs": [
    {
     "name": "stdout",
     "output_type": "stream",
     "text": [
      "9\n",
      "3.5\n"
     ]
    }
   ],
   "source": [
    "class MyMaths():\n",
    "    def __int__(self):\n",
    "        pass\n",
    "\n",
    "    def my_sum(self,*num):\n",
    "        return sum(num)\n",
    "\n",
    "obj1=MyMaths()\n",
    "print(obj1.my_sum(1,3,5))\n",
    "print(obj1.my_sum(1.5,2)) # This is Overloading where function in same class is performing different behaviours with different data types inputs\n",
    "# In languages like Java or C++, you might write:\n",
    "\n",
    "#java\n",
    "#int sum(int a, int b)\n",
    "#float sum(float a, float b)\n",
    "#Python doesn’t support this static method overloading by signature. Instead, you use *args to allow a variable number of arguments, which simulates overloading by changing the behavior based on input.\n"
   ]
  },
  {
   "cell_type": "code",
   "execution_count": 122,
   "id": "0a02856e-6238-48cd-9972-c98f79c70a4b",
   "metadata": {},
   "outputs": [],
   "source": [
    "# Overloading is one thing in polymorphism where a function in same class performs different behaviours with different data types.\n",
    "# Overiding is another thing where same function of same name is performing different behaviours in different classes is overriding."
   ]
  },
  {
   "cell_type": "code",
   "execution_count": 126,
   "id": "3ec8a28e-5338-4093-9d57-7ef7c2710b26",
   "metadata": {},
   "outputs": [
    {
     "name": "stdout",
     "output_type": "stream",
     "text": [
      "Pakistan Urdu\n",
      "Pakistan English\n"
     ]
    }
   ],
   "source": [
    "class A():\n",
    "    def __init__(self):\n",
    "        pass\n",
    "    def speaking(self,message):\n",
    "        return message+\" Urdu\"\n",
    "\n",
    "class B(A): # B is child class of A\n",
    "    def __init__(self):\n",
    "        pass\n",
    "    def speaking(self,message): # same function with same name in class B as the function in class A. This is overriding where same function is performing different behaviours in different classes(Urdu in A and English in B).\n",
    "        return message+\" English\" # Here the speaking function of child has overrided the speaking function of A i.e parent class.\n",
    "\n",
    "a=A()\n",
    "b=B()\n",
    "\n",
    "print(a.speaking(\"Pakistan\"))\n",
    "print(b.speaking(\"Pakistan\"))"
   ]
  },
  {
   "cell_type": "markdown",
   "id": "29242910-fec3-41eb-bdf8-1dbbf5e242c8",
   "metadata": {},
   "source": [
    "## Encapsulation"
   ]
  },
  {
   "cell_type": "markdown",
   "id": "6f88b70c-d32b-41d5-b477-4004a1b46e3d",
   "metadata": {},
   "source": [
    "* make any method or attribut as private so that it is not publicly available for anyone to change for example grades, student personal information is not publicly made available otherwise students will change it as per their wish so we use encapsulation to make that information private.\n",
    "* __ you can assign double under score before methods/attributes to make it private and unaccessible.\n",
    "* not publicly accessable\n",
    "* protected\n",
    "* Since encapsulated methods and attributes are private they can only be changed by within class functions and not from outside class.\n",
    "* we change private methods and attributes through \"Setter function\"\n",
    "* We can access private methods and attributes with \"Getter function\""
   ]
  },
  {
   "cell_type": "code",
   "execution_count": 173,
   "id": "67010555-514b-45af-bd96-9ff382b16e0f",
   "metadata": {},
   "outputs": [
    {
     "name": "stdout",
     "output_type": "stream",
     "text": [
      "MOM\n"
     ]
    },
    {
     "ename": "AttributeError",
     "evalue": "'Students' object has no attribute 'fname'",
     "output_type": "error",
     "traceback": [
      "\u001b[1;31m---------------------------------------------------------------------------\u001b[0m",
      "\u001b[1;31mAttributeError\u001b[0m                            Traceback (most recent call last)",
      "Cell \u001b[1;32mIn[173], line 11\u001b[0m\n\u001b[0;32m      8\u001b[0m s1\u001b[38;5;241m=\u001b[39m Students(\u001b[38;5;241m1\u001b[39m,\u001b[38;5;124m\"\u001b[39m\u001b[38;5;124mSaadi\u001b[39m\u001b[38;5;124m\"\u001b[39m)\n\u001b[0;32m     10\u001b[0m \u001b[38;5;28mprint\u001b[39m(s1\u001b[38;5;241m.\u001b[39meducation) \u001b[38;5;66;03m# This is public so it will be printed.\u001b[39;00m\n\u001b[1;32m---> 11\u001b[0m \u001b[38;5;28mprint\u001b[39m(s1\u001b[38;5;241m.\u001b[39mfname)\n",
      "\u001b[1;31mAttributeError\u001b[0m: 'Students' object has no attribute 'fname'"
     ]
    }
   ],
   "source": [
    "class Students():\n",
    "    def __init__(self,id,name):\n",
    "        self.__id=id # private\n",
    "        self.__name=name # private\n",
    "        self.__fname=\"Anis\" # private\n",
    "        self.education=\"MOM\" # This is made public.\n",
    "\n",
    "s1= Students(1,\"Saadi\")\n",
    "\n",
    "print(s1.education) # This is public so it will be printed.\n",
    "print(s1.fname) # private so it will not be printed. "
   ]
  },
  {
   "cell_type": "code",
   "execution_count": 175,
   "id": "51b1d2ef-94c9-4066-9b4b-59df2395a2ec",
   "metadata": {},
   "outputs": [
    {
     "ename": "AttributeError",
     "evalue": "'Students' object has no attribute 'name'",
     "output_type": "error",
     "traceback": [
      "\u001b[1;31m---------------------------------------------------------------------------\u001b[0m",
      "\u001b[1;31mAttributeError\u001b[0m                            Traceback (most recent call last)",
      "Cell \u001b[1;32mIn[175], line 1\u001b[0m\n\u001b[1;32m----> 1\u001b[0m s1\u001b[38;5;241m.\u001b[39mname\n",
      "\u001b[1;31mAttributeError\u001b[0m: 'Students' object has no attribute 'name'"
     ]
    }
   ],
   "source": [
    "s1.name # name is private so it is not showing name."
   ]
  },
  {
   "cell_type": "code",
   "execution_count": 177,
   "id": "d0b58537-d182-4f99-844e-5a5323c34b90",
   "metadata": {},
   "outputs": [
    {
     "name": "stdout",
     "output_type": "stream",
     "text": [
      "Saadi\n"
     ]
    }
   ],
   "source": [
    "#print(obj._classname__attribute) \n",
    "print(s1._Students__name) # this will show the private attribute of any class."
   ]
  },
  {
   "cell_type": "markdown",
   "id": "5555049e-af63-41d6-8d3d-b10c06cd1e3e",
   "metadata": {},
   "source": [
    "## Abstraction"
   ]
  },
  {
   "cell_type": "markdown",
   "id": "6b62b1d4-34fa-4aad-9362-35dc982a4642",
   "metadata": {},
   "source": [
    "* @abstractmethod makes the class abstract which is a decorator. For abstract class its instance is not made so it is used through its child class."
   ]
  },
  {
   "cell_type": "markdown",
   "id": "d6be44d6-9658-4c1b-a29a-1a46ed9704ce",
   "metadata": {},
   "source": [
    "* An abstract class is like a blueprint for other classes.\n",
    "* It cannot be used directly, but it tells other classes what they must have.\n",
    "* for example Every robot must have a walk() function, but I’m not writing how it walks — that’s up to each type of robot.\n",
    "* An abstract class is created using ABC (Abstract Base Class)."
   ]
  },
  {
   "cell_type": "markdown",
   "id": "59d62f41-8efe-483d-9d6e-3427c7eb6e54",
   "metadata": {},
   "source": [
    "* In abstract method we make a parent class which is abstract i.e it cannot be instantiate/called and through this abstract class we make different child classes in which we run the function of this abstract class.\n",
    "* Abstract class is any class whose constructor cannot be instantiated and whose attributes and methods are acessed through child class.\n",
    "* Abstract class is the general class which cannot be instantiated and have child classes for e.g Humans is a abstarct class (general class) and have child classes as male and female. Child classes have some of their own specific attributes and take general atttributes from the abstract class."
   ]
  },
  {
   "cell_type": "code",
   "execution_count": 181,
   "id": "eddcbf08-7135-427e-ad04-6eb1e96f9fe3",
   "metadata": {},
   "outputs": [],
   "source": [
    "from abc import ABC, abstractmethod"
   ]
  },
  {
   "cell_type": "code",
   "execution_count": 189,
   "id": "3794f7bc-9c89-4c14-979f-debcc38fec83",
   "metadata": {},
   "outputs": [
    {
     "ename": "TypeError",
     "evalue": "Can't instantiate abstract class Human without an implementation for abstract method 'display'",
     "output_type": "error",
     "traceback": [
      "\u001b[1;31m---------------------------------------------------------------------------\u001b[0m",
      "\u001b[1;31mTypeError\u001b[0m                                 Traceback (most recent call last)",
      "Cell \u001b[1;32mIn[189], line 8\u001b[0m\n\u001b[0;32m      5\u001b[0m     \u001b[38;5;129m@abstractmethod\u001b[39m\n\u001b[0;32m      6\u001b[0m     \u001b[38;5;28;01mdef\u001b[39;00m \u001b[38;5;21mdisplay\u001b[39m(\u001b[38;5;28mself\u001b[39m):        \n\u001b[0;32m      7\u001b[0m         \u001b[38;5;28;01mreturn\u001b[39;00m \u001b[38;5;124mf\u001b[39m\u001b[38;5;124m\"\u001b[39m\u001b[38;5;124mStudent name:\u001b[39m\u001b[38;5;132;01m{\u001b[39;00m\u001b[38;5;28mself\u001b[39m\u001b[38;5;241m.\u001b[39mname\u001b[38;5;132;01m}\u001b[39;00m\u001b[38;5;124m,\u001b[39m\u001b[38;5;130;01m\\n\u001b[39;00m\u001b[38;5;124m \u001b[39m\u001b[38;5;132;01m{\u001b[39;00m\u001b[38;5;28mself\u001b[39m\u001b[38;5;241m.\u001b[39mage\u001b[38;5;132;01m}\u001b[39;00m\u001b[38;5;124m old\u001b[39m\u001b[38;5;124m\"\u001b[39m\n\u001b[1;32m----> 8\u001b[0m h1\u001b[38;5;241m=\u001b[39mHuman()\n",
      "\u001b[1;31mTypeError\u001b[0m: Can't instantiate abstract class Human without an implementation for abstract method 'display'"
     ]
    }
   ],
   "source": [
    "class Human(ABC):\n",
    "    def __init__(self):\n",
    "        self.name=name\n",
    "        self.age=age\n",
    "    @abstractmethod\n",
    "    def display(self):        \n",
    "        return f\"Student name:{self.name},\\n {self.age} old\"\n",
    "h1=Human()\n",
    "\n",
    "# abstract class cannot be called directly and need child class."
   ]
  },
  {
   "cell_type": "code",
   "execution_count": 210,
   "id": "a9b9cc51-f819-4fd3-9ab1-2e9c1d501c5e",
   "metadata": {},
   "outputs": [
    {
     "data": {
      "text/plain": [
       "'\\n        \"Student_name: \"+ Saadi\\n        \"Student_age: \" + 23\\n        '"
      ]
     },
     "execution_count": 210,
     "metadata": {},
     "output_type": "execute_result"
    }
   ],
   "source": [
    "class Human(ABC): # since human class is child class of ABC it means that human class is abstract class.\n",
    "    def __init__(self,name,age):\n",
    "        self.name=name\n",
    "        self.age=age\n",
    "    @abstractmethod #decorator\n",
    "    def display(self):\n",
    "        return f\"\"\"\n",
    "        \"Student_name: \"+ {self.name}\n",
    "        \"Student_age: \" + {self.age}\n",
    "        \"\"\"\n",
    "\n",
    "\n",
    "class Male(Human):\n",
    "    def __init__(self,name,age):\n",
    "        super().__init__(name,age)\n",
    "        self.education = None\n",
    "        self.eyecolor = None\n",
    "    def display(self): #overiding function is neccessary\n",
    "        return f\"\"\"\n",
    "        \"Student_name: \"+ {self.name}\n",
    "        \"Student_age: \" + {self.age}\n",
    "        \"\"\"\n",
    "m1=Male(\"Saadi\",23)\n",
    "m1.display()\n",
    "    "
   ]
  },
  {
   "cell_type": "code",
   "execution_count": 212,
   "id": "e7b0b3b3-d388-47da-b13d-79f29eba2849",
   "metadata": {},
   "outputs": [
    {
     "name": "stdout",
     "output_type": "stream",
     "text": [
      "Triangle have 3 sides\n",
      "Quad have 4 sides\n"
     ]
    }
   ],
   "source": [
    "from abc import ABC,abstractmethod\n",
    "class Polygon(ABC):\n",
    "    @abstractmethod\n",
    "    def noofsides(self):\n",
    "        pass\n",
    "class Triangle(Polygon):\n",
    "    def noofsides(self): #Overriding the function is absolutely neccessary.\n",
    "        print(\"Triangle have 3 sides\")\n",
    "R=Triangle()\n",
    "R.noofsides()\n",
    "\n",
    "class Quad(Polygon):\n",
    "    def noofsides(self):\n",
    "        print(\"Quad have 4 sides\")\n",
    "Q=Quad()\n",
    "Q.noofsides()"
   ]
  },
  {
   "cell_type": "code",
   "execution_count": null,
   "id": "727e50a5-61ca-49a8-995e-8ec98182ccb6",
   "metadata": {},
   "outputs": [],
   "source": []
  },
  {
   "cell_type": "code",
   "execution_count": null,
   "id": "96afc02c-394f-4c5d-b498-6f5a11ce6b45",
   "metadata": {},
   "outputs": [],
   "source": []
  },
  {
   "cell_type": "code",
   "execution_count": null,
   "id": "e7fbc6d8-448b-44cc-b6d1-d4df2681ee75",
   "metadata": {},
   "outputs": [],
   "source": []
  },
  {
   "cell_type": "code",
   "execution_count": null,
   "id": "14e4666c-c051-4dae-92c7-d6e046cdbf3c",
   "metadata": {},
   "outputs": [],
   "source": []
  },
  {
   "cell_type": "code",
   "execution_count": null,
   "id": "6ab972d7-d9a1-4c46-bf1e-66d1dfce14f7",
   "metadata": {},
   "outputs": [],
   "source": []
  }
 ],
 "metadata": {
  "kernelspec": {
   "display_name": "Python [conda env:base] *",
   "language": "python",
   "name": "conda-base-py"
  },
  "language_info": {
   "codemirror_mode": {
    "name": "ipython",
    "version": 3
   },
   "file_extension": ".py",
   "mimetype": "text/x-python",
   "name": "python",
   "nbconvert_exporter": "python",
   "pygments_lexer": "ipython3",
   "version": "3.12.7"
  }
 },
 "nbformat": 4,
 "nbformat_minor": 5
}
